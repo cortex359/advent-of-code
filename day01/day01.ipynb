{
 "cells": [
  {
   "cell_type": "code",
   "execution_count": 1,
   "id": "ffb1aa97-1fb8-4740-99cd-ebe11f054ea8",
   "metadata": {
    "pycharm": {
     "is_executing": true
    }
   },
   "outputs": [
    {
     "name": "stdout",
     "output_type": "stream",
     "text": [
      "Heavy carrying elf with 69310 calories.\n",
      "Top 3 elves with 206104 calories in total.\n"
     ]
    }
   ],
   "source": [
    "file = open(\"input.txt\", \"r\")\n",
    "calories = 0\n",
    "elves = []\n",
    "\n",
    "for line in file:\n",
    "    if line == \"\\n\": \n",
    "        elves.append(calories)\n",
    "        calories = 0\n",
    "    else:\n",
    "        calories += int(line)\n",
    "\n",
    "elves.sort(reverse=True)\n",
    "\n",
    "print(\"Heavy carrying elf with \" + str(elves[0]) + \" calories.\")\n",
    "print(\"Top 3 elves with \" + str(elves[0] + elves[1] + elves[2]) + \" calories in total.\")"
   ]
  },
  {
   "cell_type": "raw",
   "id": "2026ed2c-9f7f-432b-8a24-e01bc2280575",
   "metadata": {},
   "source": []
  }
 ],
 "metadata": {
  "kernelspec": {
   "display_name": "Python 3 (ipykernel)",
   "language": "python",
   "name": "python3"
  },
  "language_info": {
   "codemirror_mode": {
    "name": "ipython",
    "version": 3
   },
   "file_extension": ".py",
   "mimetype": "text/x-python",
   "name": "python",
   "nbconvert_exporter": "python",
   "pygments_lexer": "ipython3",
   "version": "3.10.7"
  }
 },
 "nbformat": 4,
 "nbformat_minor": 5
}
