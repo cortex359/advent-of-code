{
 "cells": [
  {
   "cell_type": "code",
   "execution_count": 35,
   "id": "ffb1aa97-1fb8-4740-99cd-ebe11f054ea8",
   "metadata": {},
   "outputs": [
    {
     "name": "stdout",
     "output_type": "stream",
     "text": [
      "Heavy carring elve with 69310 calories.\n",
      "Top 3 elves with 206104 calories.\n"
     ]
    }
   ],
   "source": [
    "f = open(\"input.txt\", \"r\")\n",
    "sum = 0\n",
    "sums = []\n",
    "for l in f:\n",
    "    if l == \"\\n\": \n",
    "        sums.append(sum)\n",
    "        sum = 0\n",
    "    else:\n",
    "        sum += int(l)\n",
    "\n",
    "sums.sort(reverse=True)\n",
    "\n",
    "print(\"Heavy carring elve with \" + str(sums[0]) + \" calories.\")\n",
    "print(\"Top 3 elves with \" + str(sums[0] + sums[1] + sums[2]) + \" calories.\")"
   ]
  }
 ],
 "metadata": {
  "kernelspec": {
   "display_name": "Python 3 (ipykernel)",
   "language": "python",
   "name": "python3"
  },
  "language_info": {
   "codemirror_mode": {
    "name": "ipython",
    "version": 3
   },
   "file_extension": ".py",
   "mimetype": "text/x-python",
   "name": "python",
   "nbconvert_exporter": "python",
   "pygments_lexer": "ipython3",
   "version": "3.10.7"
  }
 },
 "nbformat": 4,
 "nbformat_minor": 5
}
